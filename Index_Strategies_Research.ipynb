{
 "cells": [
  {
   "cell_type": "markdown",
   "id": "7b13ac34-bc7f-4b89-b8e4-50cf0b29b653",
   "metadata": {},
   "source": [
    "# Index Strategies Research"
   ]
  },
  {
   "cell_type": "markdown",
   "id": "435c1474-a508-4edc-b5e4-43aacafad653",
   "metadata": {},
   "source": [
    "## Introduction"
   ]
  },
  {
   "cell_type": "markdown",
   "id": "4ac51b2d-1a2f-4572-a726-dcf4edc6945f",
   "metadata": {},
   "source": [
    "### The Strategies\n",
    "\n",
    "Index Strategies are a good alternative to active stock picking strategies and can offer very attractive combinations of risk and return at significantly lower effort (see Vibha Jha). \n",
    "\n",
    "We will research the following index strategies:  \n",
    "1. ***BH - Buy and Hold Index.*** The baseline. \n",
    "2. ***P21 - Price vs 21d EMA.*** Buy and sell when current close crosses the 21d EMA. Mike Webster uses the 21d EMA heavily in his trading (see Market School, Power Trend, Swing Trader, etc.). A swing trading strategy? \n",
    "3. ***P50 - Price vs 50d SMA.*** The 50d SMA was used by William O'Neil and is used by many CANSLIM traders (as in 'decisive break below the 50d MA is a clear sell signal). This should be more of a positional strategy. \n",
    "4. ***P200 - Price vs 200d SMA.***\n",
    "5. ***21x50 - 21dEMA_50dSMA.*** Or, generally, a crossover of two MAs. \n",
    "6. ***VJ - Vibha Jha's TQQQ strategy.*** Vibha posted very impressive results in 2021, 2022 and 2023 using TQQQ, entering after Follow Through Day (with modifications) and exiting gradually at profit target, at resistance, at new highs.\n",
    "7. ***WON - WON's FTD and DD strategy.*** Here, we will analyze the effectiveness of WON's Follow-though days and Distribution Days.\n",
    "\n",
    "In working with these strategies, we will also investigate the following topics: \n",
    "1. What is the optimal mechanism for exploiting an underlying with a known volatility and trend tendency (length of trends)? \n",
    "2. How does the edge change with the length of the trend we aim to exploit?\n",
    "3. How to prevent 'sudden death' and how to prevent 'death by a thousand cuts'?\n",
    "4. What is the impact of gradual market exposure?\n",
    "5. What is the impact of selecting different indicators, like PowerTrend, FTD? \n",
    "\n",
    "### Trading\n",
    "All strategies will be implemented as end-of-the-day strategies: the strategies will use daily OHLCV data, entry and exit signals will be calculated at the end of the day and acted upon on the next day's open (with a slippage factor). \n",
    "We will trade QQQ and use no leverage. \n",
    "\n",
    "### Performance Comparison\n",
    "The strategies will be backtested over the period Jan 1, 2000 - April 31, 2025. This includes four significant bear markets ('00-03, '07-'08, '20 and '22), two intermediate pullbacks ('18), three 'choppy' periods ('04-'05, '11-'12 and '15-'16) and five strong bull markets ('03, '09-'11, '16-'18, '20-'21 and '23-'25).\n",
    "\n",
    "The strategies will then be compared based on the following factors: \n",
    "- ***Returns and Quality of Returns:*** CAGR, min/max annual return, avg and stdev of annual returns\n",
    "- ***Risk:*** max drawdown, three largest drawdowns\n",
    "- ***Strategy Statistics:*** N, p, W<sub>avg</sub>, L<sub>avg</sub>, min/max HP, HP<sub>avg</sub>, HP<sub>avg-W</sub>, HP<sub>avg-L</sub>\n",
    "\n",
    "### Strategy Analysis\n",
    "For each strategy backtest, we will generate: \n",
    "- ***Chart:*** index, entry/exit points, position size (when in the market), supporting indicators (MAs, etc)\n",
    "- ***Trade Table.***\n",
    "- ***Distribution of trade returns.***\n",
    "\n",
    "### Strategy Optimization\n",
    "We will build a way to optimize strategy parameters. \n"
   ]
  },
  {
   "cell_type": "markdown",
   "id": "fbbfdf8d-9c5a-4cff-8370-b3e62106ce45",
   "metadata": {},
   "source": [
    "## Results"
   ]
  },
  {
   "cell_type": "markdown",
   "id": "b1d4f4a8-7f57-4bd7-9e08-b1b12de47307",
   "metadata": {},
   "source": [
    "Results for various crossovers - CAGR/MaxDD (unrealized); EV p/W/L HPw/HPl\n",
    "\n",
    "|        |Price|10d                            |21d  |50d  |200d |\n",
    "|--------|----|--------------------------------|-----|-----|-----|\n",
    "|Price   | NA |                                    |     |     |     |\n",
    "|10d     | 0.3%/76%; EV=0 0.5 3/-2 14/6   | NA                                 |     |     |     |\n",
    "|21d     | 3.8%/51%; EV=0 0.43/4/-2 28/8   | 6.3%/47%;EV=1% 0.5/6/-3; 55/19     | NA  |     |     |\n",
    "|50d     | 5.2%/31%; EV=1% 0.43/5/-2 53/11   | 5.4%/38%;EV=2% 0.5/8/-5; 110/32    | 3%/45%; EV=2% .5/10/-6 147/54    | NA  |     |\n",
    "|200d    | 8.3%/37%; EV=3% 0.4/12/-3 166/13   | 7.2%/28%; EV=7% 0.45/23/-6; 400/30 | 8.7%/16%; EV=12% .5/29/-5 501/48 | 9.5%/11%; EV=18% 0.6/34/-8 584/121    | NA  |\n",
    "\n",
    "Observations: \n",
    "- Short term trading (both averages short) means we enter on weak signals (small moves up). There is no edge in these trades. But note that there are people who swing trade successfully, with losses around -2% and wins in single digits (e.g., Deepak Uppal or even Minervini). Perhaps there is not sufficient upside in the index and the trades need to be in high-growth stocks to get the upside while cutting off the losses? So why is there no edge here? My theory: it appears most trend followers end up with p~0.4, so there is just not a good way to identify good trends a priori. Then, it is important to select an underlying that trends significantly (big W) and cut off losses (small L). Such a system will just not work in low-trending underlyings.  \n",
    "-  Short term trading has surprisingly large maximum drawdowns, given that the max trade loss is around -5%. They lose in downmarkets and they also lose in sideways markets. Perhaps there needs to be a brake which stops trading after too many failed trades (an indication of bad environment)?\n",
    "-  - \n",
    "\n",
    "\n",
    "\n",
    "\n",
    "\n",
    "|Strategy|CAGR|Max. DD|N    |p    |Wavg |Lavg  |HPw  |HPl  |\n",
    "|--------|----|-------|-----|-----|-----|------|-----|-----|\n",
    "|P10     |0.3%|76%    |573  |0.46 |3%   |-2%   |14   |6    |\n",
    "|P21     |3.8%|51%    |345  |0.43 |4%   |-2%   |28   |8    |\n",
    "|P50     |5.2%|31%    |205  |0.43 |5%   |-2%   |53   |11   |\n",
    "|P200    |8.3%|36%    |93   |0.38 |12%  |-3%   |166  |13   |\n",
    "|BH      |7.4%|83%    |1    |1    |517% |n/a   |9,200|n/a  |\n",
    "\n",
    "\n",
    "\n"
   ]
  },
  {
   "cell_type": "markdown",
   "id": "cb882181-8d5a-4dbb-96f9-f6bc3dbbb63a",
   "metadata": {},
   "source": [
    "#### Buy and Hold Index. \n",
    "\n",
    "The three largest drawdowns make it impossible to use leverage (e.g., TQQQ). "
   ]
  },
  {
   "cell_type": "markdown",
   "id": "f0aae342-62f9-4835-895c-b83795c05be8",
   "metadata": {},
   "source": [
    "## Notes\n",
    "\n",
    "- TradingView QQQ market data seems correct for a bout the past two years, and diverges from Nasdaq OHLC values prior to that, up to about 2%-3% for 2018.\n",
    "- "
   ]
  }
 ],
 "metadata": {
  "kernelspec": {
   "display_name": "Python 3 (ipykernel)",
   "language": "python",
   "name": "python3"
  },
  "language_info": {
   "codemirror_mode": {
    "name": "ipython",
    "version": 3
   },
   "file_extension": ".py",
   "mimetype": "text/x-python",
   "name": "python",
   "nbconvert_exporter": "python",
   "pygments_lexer": "ipython3",
   "version": "3.11.12"
  }
 },
 "nbformat": 4,
 "nbformat_minor": 5
}
